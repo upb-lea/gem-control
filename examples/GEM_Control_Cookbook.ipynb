{
 "cells": [
  {
   "cell_type": "markdown",
   "id": "33a36c3b",
   "metadata": {},
   "source": [
    "# GEM Control Cookbook\n",
    "\n",
    "This notebook aims to provide an introduction to the usage of the gem-control toolbox. The first section introduces the basic functions of a GEM Controller. Afterwards, an introduction on how to tune a controller is given. Finally, some examples are presented."
   ]
  },
  {
   "cell_type": "markdown",
   "id": "b7c40dfe",
   "metadata": {},
   "source": [
    "##  1. Overview\n",
    "\n",
    "The gem-control package is a Python toolbox for the control of a [gym-electric-motor](https://upb-lea.github.io/gym-electric-motor/) (GEM) environment. The toolbox automatically creates a controller structure for a specified motor and controlled state. Furthermore, it is possible to parameterize the controller automatically."
   ]
  },
  {
   "cell_type": "markdown",
   "id": "7f630370",
   "metadata": {},
   "source": [
    "### 1.1 Installation\n",
    "\n",
    "Before you can start, you need to make sure taht you have gem-controll installed. You can install it easily using pip:\n",
    "```\n",
    "pip install gem-control\n",
    "```\n",
    "\n",
    "Alternatively, install the latest developer version directly from GitHub:\n",
    "https://github.com/upb-lea/gem-control\n",
    "\n",
    "For this notebook, we can install it by executing the following cell."
   ]
  },
  {
   "cell_type": "code",
   "execution_count": null,
   "id": "58331736",
   "metadata": {},
   "outputs": [],
   "source": [
    "!pip install -q git+https://github.com/upb-lea/gem-control@main"
   ]
  },
  {
   "cell_type": "code",
   "execution_count": null,
   "outputs": [],
   "source": [
    "!sudo apt-get install latexmk -qq\n",
    "!sudo apt-get install texlive-latex-extra -qq"
   ],
   "metadata": {
    "collapsed": false,
    "pycharm": {
     "name": "#%%\n"
    }
   }
  },
  {
   "cell_type": "code",
   "execution_count": null,
   "id": "8a3eede7",
   "metadata": {
    "pycharm": {
     "name": "#%%\n"
    }
   },
   "outputs": [],
   "source": [
    "### 1.2 Supported Motors\n",
    "\n",
    "The following motors are supported to be controlled by a GEM Controller. Three options are available for the control task: Current Control (CC), Torque Control (TC) and Speed Control (SC).\n",
    "\n",
    "DC Motors:\n",
    "   - Permanently Excited DC Motor\n",
    "   - Externally Excited DC Motor\n",
    "   - Series DC Motor\n",
    "   - Shunt DC Motor\n",
    "\n",
    "Three-Phase Motors:\n",
    "   - Permanent Magnet Synchronous Motor\n",
    "   - Synchronous Reluctance Motor\n",
    "   - Externally Excited Synchronous Motor\n",
    "   - Squirrel Cage Induction Motor"
   ]
  },
  {
   "cell_type": "markdown",
   "id": "ebae5437",
   "metadata": {},
   "source": [
    "### 1.2 Supported Motors\n",
    "\n",
    "The following motors are supported to be controlled by a GEM Controller. Three options are available for the control task: Current Control (CC), Torque Control (TC) and Speed Control (SC).\n",
    "\n",
    "DC Motors:\n",
    "   - Permanently Excited DC Motor\n",
    "   - Externally Excited DC Motor\n",
    "   - Series DC Motor\n",
    "   - Shunt DC Motor\n",
    "\n",
    "Three-Phase Motors:\n",
    "   - Permanent Magnet Synchronous Motor\n",
    "   - Synchronous Reluctance Motor\n",
    "   - Externally Excited Synchronous Motor\n",
    "   - Squirrel Cage Induction Motor"
   ]
  },
  {
   "cell_type": "markdown",
   "id": "a863b9f1",
   "metadata": {},
   "source": [
    "### 1.3 Interface\n",
    "\n",
    "The basic user interface consists of four main functions.\n",
    "* `import gem_controller as gc`\n",
    "      Import the package.\n",
    "    \n",
    "\n",
    "* `c = gc.GemControllers.make(environment, environment-id, **kwargs)`\n",
    "      Returns an instantiated controller for the gem-environment. Call this function at the beginning.\n",
    "\n",
    "\n",
    "* `c.reset()`\n",
    "      Resets the controller. Call this function before a new episode starts.\n",
    "\n",
    "\n",
    "* `c.control(state, reference)`\n",
    "      Returns the action of the controller for the next step.\n",
    "\n",
    "\n",
    "* `c.control_environment(environment, n_steps, **kwargs)`\n",
    "      Controls the environment for n timesteps.\n",
    " "
   ]
  },
  {
   "cell_type": "markdown",
   "id": "86e5bcaa",
   "metadata": {},
   "source": [
    "### 1.4 Basic Routine"
   ]
  },
  {
   "cell_type": "markdown",
   "id": "0faab626",
   "metadata": {},
   "source": [
    "A Basic Routine of creating a gem controller and using it, to control a gym-electric-motor environment is given in the following cell. For setting up a gym-electric-motor environment, a seperate [GEM Cookbook](https://colab.research.google.com/github/upb-lea/gym-electric-motor/blob/master//examples/environment_features/GEM_cookbook.ipynb) is available."
   ]
  },
  {
   "cell_type": "code",
   "execution_count": null,
   "id": "e4d620a5",
   "metadata": {},
   "outputs": [],
   "source": [
    "import gym_electric_motor as gem\n",
    "import gem_controllers as gc\n",
    "%matplotlib notebook\n",
    "\n",
    "\n",
    "# Instantiate a gym-electric-motor environment\n",
    "env_id = 'Cont-CC-PMSM-v0'\n",
    "env = gem.make(env_id)\n",
    "\n",
    "# Instantiate a gem controller for the environment\n",
    "c = gc.GemController.make(env, env_id)\n",
    "\n",
    "# Control the environment\n",
    "c.control_environment(env, n_steps=10001, render_env=True)\n"
   ]
  },
  {
   "cell_type": "markdown",
   "id": "1aabe55d",
   "metadata": {},
   "source": [
    "<div class=\"alert alert-block alert-info\">  \n",
    "<b>Note:</b>    \n",
    "If the notebook is executed in <b>Colab</b>, the visualization cannot be used because dynamic matplotlib backends are not supported.\n",
    "</div>"
   ]
  },
  {
   "cell_type": "markdown",
   "id": "d92cc935",
   "metadata": {},
   "source": [
    "## 2. Customize a GEM Controller"
   ]
  },
  {
   "cell_type": "markdown",
   "id": "e231ecd8",
   "metadata": {},
   "source": [
    "### 2.1 Creating a GEM Controller"
   ]
  },
  {
   "cell_type": "markdown",
   "id": "2bdecd38",
   "metadata": {},
   "source": [
    "To create a GEM Controller the `GemControllers.make()` command is used. There are some keyword arguments to adjust the controller.\n",
    "\n",
    "* **env**\n",
    "      The GEM environment that should be controlled.\n",
    "\n",
    "* **env_id**\n",
    "      The id of the GEM environment, that includes the action space, the control task and the motor type.\n",
    "\n",
    "* **decoupling**\n",
    "      Boolean to indicate, if an EMF-Feedforward corretion stage should be used.\n",
    "        \n",
    "\n",
    "* **current_safety_margin**\n",
    "      Float to define a maximum current for the operation point selection.\n",
    "\n",
    "* **base_speed_controller**\n",
    "      Selection of the basic control algorithm for the speed control stage. Available control algorithms are 'PI', 'PID', 'P', 'ThreePoint'.\n",
    "\n",
    "* **base_current_controller**\n",
    "      Selection of the basic control algorithm for the current control stage. Available control algorithms are 'PI', 'PID', 'P', 'ThreePoint'.\n",
    "      \n",
    "* **a**\n",
    "      Tuning parameter of the symmetrical optimum, that has to be larger than 1. A small value leads to a fast response, but also to a high overshoot.\n",
    "\n",
    "* **plot_references**\n",
    "      Boolean to indicate, if the reference values of the subordinated stages should be plotted. Therefore the referenced states of the subordinated stages have to be plotted.\n",
    "\n",
    "* **block_diagram**\n",
    "      Boolean to indicate, if a block diagram of the controller should be generated.\n",
    "\n",
    "* **save_block_diagram_as**\n",
    "      Selection of the data type for saving the block diagram. Also a tuple of data types can be passed. The available data types are 'pdf' and 'tex'. A window to select the folder and the file name will be opened."
   ]
  },
  {
   "cell_type": "code",
   "execution_count": null,
   "id": "ed4123ab",
   "metadata": {},
   "outputs": [],
   "source": [
    "from gym_electric_motor.visualization import MotorDashboard\n",
    "from gym_electric_motor.reference_generators import WienerProcessReferenceGenerator\n",
    "\n",
    "# Create a GEM environment\n",
    "env_id = 'Cont-SC-PMSM-v0'\n",
    "env = gem.make(env_id,\n",
    "              visualization=MotorDashboard(state_plots=('omega', 'torque', 'i_sd', 'i_sq', 'u_sd', 'u_sq')),\n",
    "              reference_generator=WienerProcessReferenceGenerator(reference_state='omega', sigma_range=(1e-3, 1e-2)))\n",
    "\n",
    "# Create a GEM controller\n",
    "c = gc.GemController.make(env=env,\n",
    "                          env_id=env_id,\n",
    "                          decoupling=False,\n",
    "                          current_safety_margin=0.3,\n",
    "                          base_speed_controller='PI',\n",
    "                          base_current_controller='PI',\n",
    "                          a=5,\n",
    "                          plot_references=True,\n",
    "                          block_diagram=True,\n",
    "                          save_block_diagram_as=())\n"
   ]
  },
  {
   "cell_type": "markdown",
   "id": "32380195",
   "metadata": {},
   "source": [
    "### 2.2 Controlling a GEM environment"
   ]
  },
  {
   "cell_type": "markdown",
   "id": "c967638d",
   "metadata": {},
   "source": [
    "To use a GEM controller for controlling a GEM environment, the function `c.control_environment()` is available. There are some arguments, that could be passed.\n",
    "\n",
    "* **env**\n",
    "      The GEM environment to be controlled. This should be the same environment, that was used for the make command of the controller\n",
    "\n",
    "* **n_steps**\n",
    "      The number of iteration steps.\n",
    "\n",
    "* **max_episode_length**\n",
    "      The maximum number of steps, before the environment and the controller are reset.\n",
    "      \n",
    "* **render_env**\n",
    "      Boolean to indicate, if the states of the environment should be plotted."
   ]
  },
  {
   "cell_type": "code",
   "execution_count": null,
   "id": "d053dfd2",
   "metadata": {},
   "outputs": [],
   "source": [
    "# Control the environment by the build in function\n",
    "c.control_environment(env=env,\n",
    "                      n_steps=30001,\n",
    "                      max_episode_length=10000,\n",
    "                      render_env=True)"
   ]
  },
  {
   "cell_type": "markdown",
   "id": "fe9e1af0",
   "metadata": {},
   "source": [
    "If additional calculations should be performed during the simulation, the control loop can be programmed manually."
   ]
  },
  {
   "cell_type": "code",
   "execution_count": null,
   "id": "04a27648",
   "metadata": {},
   "outputs": [],
   "source": [
    "# Reset the environment and the controller\n",
    "state, reference = env.reset()\n",
    "c.reset()\n",
    "\n",
    "c.block_diagram.show()   # Show the block diagram of the controller\n",
    "\n",
    "n_steps = 10001\n",
    "\n",
    "cumulative_reward = 0\n",
    "\n",
    "for _ in range(n_steps):     # Simulate the environment and controller for n steps\n",
    "    env.render()      # Plot the states of the environment\n",
    "    action = c.control(state, reference)     # Calculate the action\n",
    "    (state, reference), reward, done, _ = env.step(action)    # Simulate one step of the environment\n",
    "    \n",
    "    cumulative_reward += reward\n",
    "    \n",
    "    if done:      # Check, if the system limits are exceeded\n",
    "        state, reference = env.reset()       # Reset the environment\n",
    "        c.reset()      # Reset the controller\n",
    "\n",
    "print('Cumulative Reward:', cumulative_reward)"
   ]
  },
  {
   "cell_type": "markdown",
   "id": "dade62f4",
   "metadata": {},
   "source": [
    "<div class=\"alert alert-block alert-info\">  \n",
    "<b>Note:</b>    \n",
    "The state plots can be seen in the previous cell, because the same environment is used. \n",
    "</div>"
   ]
  },
  {
   "cell_type": "markdown",
   "id": "1f648650",
   "metadata": {},
   "source": [
    "## 3. Examples"
   ]
  },
  {
   "cell_type": "markdown",
   "id": "cd6a5223",
   "metadata": {},
   "source": [
    "### 3.1 Current control of a Series DC Motor"
   ]
  },
  {
   "cell_type": "code",
   "execution_count": null,
   "id": "e91ac022",
   "metadata": {},
   "outputs": [],
   "source": [
    "env_id = 'Finite-CC-SeriesDc-v0'\n",
    "env = gem.make(env_id,\n",
    "               visualization=MotorDashboard(state_plots=('torque', 'i'), action_plots='all'),\n",
    "               reference_generator=WienerProcessReferenceGenerator(reference_state='i', sigma_range=(1e-3, 1e-2)))\n",
    "\n",
    "c = gc.GemController.make(env, env_id)\n",
    "\n",
    "c.control_environment(env, n_steps=10001, render_env=True)"
   ]
  },
  {
   "cell_type": "markdown",
   "id": "86497f09",
   "metadata": {},
   "source": [
    "### 3.2 Torque control of an Externally Excited DC Motor\n",
    "\n",
    "The torque of an Externally Excited DC Motor can be adjusted by the $i_{\\mathrm{a}}$ and $i_{\\mathrm{e}}$ current. The current operation point is selected in order to minimize the ohmic losses."
   ]
  },
  {
   "cell_type": "code",
   "execution_count": null,
   "id": "50d4670b",
   "metadata": {},
   "outputs": [],
   "source": [
    "env_id = 'Cont-TC-ExtExDc-v0'\n",
    "env = gem.make(env_id,\n",
    "               visualization=MotorDashboard(state_plots=('torque', 'i_a', 'i_e', 'u_a', 'u_e')),\n",
    "               reference_generator=WienerProcessReferenceGenerator(reference_state='torque', sigma_range=(1e-3, 1e-2)))\n",
    "\n",
    "c = gc.GemController.make(env, env_id)\n",
    "\n",
    "c.control_environment(env, n_steps=10001, render_env=True)"
   ]
  },
  {
   "cell_type": "markdown",
   "id": "f918e409",
   "metadata": {},
   "source": [
    "### 3.3 Torque control of an Externally Excited Synchronuous Motor"
   ]
  },
  {
   "cell_type": "code",
   "execution_count": null,
   "id": "65eff802",
   "metadata": {},
   "outputs": [],
   "source": [
    "env_id = 'Cont-TC-EESM-v0'\n",
    "env = gem.make(env_id,\n",
    "               visualization=MotorDashboard(state_plots=('torque', 'i_sd', 'i_sq', 'i_e', 'u_sd', 'u_sq', 'u_e')),\n",
    "               reference_generator=WienerProcessReferenceGenerator(reference_state='torque', sigma_range=(1e-3, 1e-2)))\n",
    "\n",
    "c = gc.GemController.make(env, env_id, a=5)\n",
    "\n",
    "c.control_environment(env, n_steps=10001, render_env=True)"
   ]
  },
  {
   "cell_type": "markdown",
   "id": "381888e0",
   "metadata": {},
   "source": [
    "### 3.4 Torque Control of a Squirrel Cage Induction Motor\n",
    "\n",
    "For the control of a Squirrel Cage Induction Motor (SCIM) a flux observer is necessary, to obtain an estimate value for the magnetic flux. A flux observer is implemented as a physical system wrapper in the GEM toolbox. This has to be used, when controlling an SCIM."
   ]
  },
  {
   "cell_type": "code",
   "execution_count": null,
   "id": "f9e3835b",
   "metadata": {},
   "outputs": [],
   "source": [
    "from gym_electric_motor.physical_system_wrappers import FluxObserver\n",
    "from gym_electric_motor.reference_generators import SinusoidalReferenceGenerator\n",
    "\n",
    "env_id = 'Cont-TC-SCIM-v0'\n",
    "env = gem.make(env_id,\n",
    "               physical_system_wrappers=(FluxObserver(),),\n",
    "               visualization=MotorDashboard(state_plots=('torque', 'i_sd', 'i_sq', 'u_sd', 'u_sq', 'psi_abs')),\n",
    "               reference_generator=SinusoidalReferenceGenerator(reference_state='torque', episode_lengths=5000,))\n",
    "\n",
    "c = gc.GemController.make(env, env_id, a=5, current_safety_margin=0.1)\n",
    "\n",
    "c.control_environment(env, n_steps=10001, render_env=True)"
   ]
  },
  {
   "cell_type": "markdown",
   "id": "6ce1adeb",
   "metadata": {},
   "source": [
    "### 3.5 Speed Control of a Shunt DC Motor"
   ]
  },
  {
   "cell_type": "code",
   "execution_count": null,
   "id": "120b04c9",
   "metadata": {},
   "outputs": [],
   "source": [
    "env_id = 'Cont-SC-ShuntDc-v0'\n",
    "env = gem.make(env_id,\n",
    "               visualization=MotorDashboard(state_plots=('omega', 'torque', 'i_a', 'u')),\n",
    "               reference_generator=WienerProcessReferenceGenerator(reference_state='omega', sigma_range=(5e-4, 8e-4)))\n",
    "\n",
    "c = gc.GemController.make(env, env_id)\n",
    "\n",
    "c.control_environment(env, n_steps=10001, render_env=True)"
   ]
  }
 ],
 "metadata": {
  "kernelspec": {
   "display_name": "Python 3 (ipykernel)",
   "language": "python",
   "name": "python3"
  },
  "language_info": {
   "codemirror_mode": {
    "name": "ipython",
    "version": 3
   },
   "file_extension": ".py",
   "mimetype": "text/x-python",
   "name": "python",
   "nbconvert_exporter": "python",
   "pygments_lexer": "ipython3",
   "version": "3.8.15"
  }
 },
 "nbformat": 4,
 "nbformat_minor": 5
}